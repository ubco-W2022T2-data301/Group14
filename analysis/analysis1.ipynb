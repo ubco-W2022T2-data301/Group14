{
 "cells": [
  {
   "cell_type": "markdown",
   "source": [
    "# Omar Hemed"
   ],
   "metadata": {}
  },
  {
   "cell_type": "markdown",
   "source": [
    "## For my research question, I am aiming to find how players have affected playing either at home or away through the dataset columns provided on Kaggle. These columns show how the score of each team is affected by playing home or away, and it also shows the rating of each team either by playing at home or away. I will analyze each team and how their score is affected by playing at home or away.",
    "\r\n",
     " ."

   ],
   "metadata": {}
  }
 ],
 "metadata": {
  "orig_nbformat": 4,
  "language_info": {
   "name": "plaintext"
  }
 },
 "nbformat": 4,
 "nbformat_minor": 2
}
