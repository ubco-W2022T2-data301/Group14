{
 "cells": [
  {
   "cell_type": "markdown",
   "metadata": {},
   "source": [
<<<<<<< HEAD
    "# Your Name Here\n",
    "Mike"
   ]
=======
    "# Omar Hemed"
   ],
   "metadata": {}
>>>>>>> 05725ea71b7939a25ba28cb697c756f65b45f372
  },
  {
   "cell_type": "markdown",
   "metadata": {},
   "source": [
    "## Research question/interests: How are players and team members get affected by playing either at home or away? \r\n",
    "For my research question, I am aiming to find how players have affected playing either at home or away through the dataset columns provided on Kaggle. These columns show how the score of each team is affected by playing home or away, and it also shows the rating of each team either by playing at home or away. I will analyze each team and how their score is affected by playing at home or away.",
    "\r\n",
<<<<<<< HEAD
    "Briefly describe your research question or interests her\n",
    "\n",
    "sdfde."
   ]
  },
  {
   "cell_type": "code",
   "execution_count": null,
   "metadata": {},
   "outputs": [],
   "source": []
=======
    "."

   ],
   "metadata": {}
>>>>>>> 05725ea71b7939a25ba28cb697c756f65b45f372
  }
 ],
 "metadata": {
  "kernelspec": {
   "display_name": "",
   "name": ""
  }
 },
 "nbformat": 4,
<<<<<<< HEAD
 "nbformat_minor": 4
=======
 "nbformat_minor": 2
>>>>>>> 05725ea71b7939a25ba28cb697c756f65b45f372
}
