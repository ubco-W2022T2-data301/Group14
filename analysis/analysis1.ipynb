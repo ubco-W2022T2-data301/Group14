{
 "cells": [
  {
   "cell_type": "markdown",
   "metadata": {},
   "source": [
    "# Your Name Here\n",
    "Mike"
   ]
  },
  {
   "cell_type": "markdown",
   "metadata": {},
   "source": [
    "## Research question/interests\r\n",
    "\r\n",
    "Briefly describe your research question or interests her\n",
    "\n",
    "sdfde."
   ]
  },
  {
   "cell_type": "code",
   "execution_count": null,
   "metadata": {},
   "outputs": [],
   "source": []
  }
 ],
 "metadata": {
  "kernelspec": {
   "display_name": "",
   "name": ""
  }
 },
 "nbformat": 4,
 "nbformat_minor": 4
}
