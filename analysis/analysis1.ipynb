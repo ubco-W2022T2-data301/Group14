{
 "cells": [
  {
   "cell_type": "markdown",
   "metadata": {},
   "source": [
    "# Omar Hemed"
   ]
  },
  {
   "cell_type": "markdown",
   "metadata": {},
   "source": [
    "## Research question/interests: Does playing at home affects the amount of yellow/red cards for the away team?\n",
    "For my research question, I am aiming to find out the amount of yellow/red cards for the away team and how players might be affected throguh kaggle dataset. The dataset show how each team is affected by playing away, and it also shows the rating of each team either by playing at home or away. I will analyze each team and how analyze the amount of yellow/red cards a team might get from playing away.\n",
    "."
   ]
  }
 ],
 "metadata": {
  "kernelspec": {
   "display_name": "Python 3 (ipykernel)",
   "language": "python",
   "name": "python3"
  },
  "language_info": {
   "codemirror_mode": {
    "name": "ipython",
    "version": 3
   },
   "file_extension": ".py",
   "mimetype": "text/x-python",
   "name": "python",
   "nbconvert_exporter": "python",
   "pygments_lexer": "ipython3",
   "version": "3.10.8"
  }
 },
 "nbformat": 4,
 "nbformat_minor": 4
}
