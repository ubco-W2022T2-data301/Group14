{
 "cells": [
  {
   "cell_type": "markdown",
   "source": [
    "# Omar Hemed"
   ],
   "metadata": {}
  },
  {
   "cell_type": "markdown",
   "source": [
    "## keedqiemdiqemdqed",
    "\r\n",
     " ."

   ],
   "metadata": {}
  }
 ],
 "metadata": {
  "orig_nbformat": 4,
  "language_info": {
   "name": "plaintext"
  }
 },
 "nbformat": 4,
 "nbformat_minor": 2
}
