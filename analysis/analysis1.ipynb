{
 "cells": [
  {
   "attachments": {},
   "cell_type": "markdown",
   "metadata": {},
   "source": [
    "# Omar Hemed"
   ]
  },
  {
   "attachments": {},
   "cell_type": "markdown",
   "metadata": {},
   "source": [
    "## Research question/interests\n",
    "\n",
    "For my research question, I am aiming to find how players have affected playing either at home or away through the dataset columns provided on Kaggle. These columns show how the score of each team is affected by playing home or away, and it also shows the rating of each team either by playing at home or away. I will analyze each team and how their score is affected by playing at home or away.\n"
   ]
  }
 ],
 "metadata": {
  "language_info": {
   "name": "plaintext"
  },
  "orig_nbformat": 4
 },
 "nbformat": 4,
 "nbformat_minor": 2
}
