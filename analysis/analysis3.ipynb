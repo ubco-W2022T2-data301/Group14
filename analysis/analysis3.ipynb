{
 "cells": [
  {
   "cell_type": "markdown",
   "metadata": {},
   "source": [
    "# Takara Nishizaki"
   ]
  },
  {
   "attachments": {},
   "cell_type": "markdown",
   "metadata": {},
   "source": [
    "## Research Question: How do Red/Yellow cards affect the satisfaction and excitement of the fans watching the game in the stadium?\n",
    "\n",
    "I would like to analyze the relationship between penalized cards and how satisfied or excited the fans get. For example, do fans get more excited when there are lot of cards and the game gets heated? I will analyze the relationship by looking at the cards statistic in the dataset, and comparing it with the match excitement statistics in the dataset which is rated out of 10. In addition to this, I will further look into how many fouls each team has commited to see if more fouls lead to an accumulation of cards. To visualize these information, I will make several plots that connect each of the variables that I am looking at, and making a joint plot at the end with the three variables to see the connection between all of the information. "
   ]
  },
  {
   "attachments": {},
   "cell_type": "markdown",
   "metadata": {},
   "source": [
    "TEST"
   ]
  }
 ],
 "metadata": {
  "language_info": {
   "name": "plaintext"
  },
  "orig_nbformat": 4
 },
 "nbformat": 4,
 "nbformat_minor": 2
}
