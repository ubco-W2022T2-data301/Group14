{
 "cells": [
  {
   "cell_type": "markdown",
   "metadata": {},
   "source": [
    "# Takara Nishizaki"
   ]
  },
  {
   "cell_type": "markdown",
   "metadata": {},
   "source": [
    "## Research Question: How do Red/Yellow cards affect the satisfaction and excitement of the fans watching the game in the stadium?\r\n",
    "I would like to analyze the relationship between penalized cards and how satisfied or excited the fans get. For example, do fans get more excited when there are lot of cards and the game gets heated? I will analyze the relationship by looking at the cards statistic in the dataset, and comparing it with the match excitement statistics in the dataset which is rated out of 10."
   ]
  }
 ],
 "metadata": {
  "kernelspec": {
   "display_name": "Python 3",
   "language": "python",
   "name": "python3"
  },
  "language_info": {
   "codemirror_mode": {
    "name": "ipython",
    "version": 3
   },
   "file_extension": ".py",
   "mimetype": "text/x-python",
   "name": "python",
   "nbconvert_exporter": "python",
   "pygments_lexer": "ipython3",
   "version": "3.8.8"
  }
 },
 "nbformat": 4,
 "nbformat_minor": 4
}
