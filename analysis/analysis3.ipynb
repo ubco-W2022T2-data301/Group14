{
 "cells": [
  {
   "cell_type": "markdown",
   "metadata": {},
   "source": [
<<<<<<< HEAD
    "# Your Name Here"
   ]
=======
    "# Takara Nishizaki"
   ],
   "metadata": {}
>>>>>>> 05725ea71b7939a25ba28cb697c756f65b45f372
  },
  {
   "cell_type": "markdown",
   "metadata": {},
   "source": [
<<<<<<< HEAD
    "## Research question/interests\r\n",
    "\r\n",
    "Briefly describe your research question or interests here."
   ]
=======
    "## Research Question: How do Red/Yellow cards affect the satisfaction and excitement of the fans watching the game in the stadium?\r\n",
    "",
    "I would like to analyze the relationship between penalized cards and how satisfied or excited the fans get. For example, do fans get more excited when there are lot of cards and the game gets heated? I will analyze the relationship by looking at the cards statistic in the dataset, and comparing it with the match excitement statistics in the dataset which is rated out of 10."

   ],
   "metadata": {}
>>>>>>> 05725ea71b7939a25ba28cb697c756f65b45f372
  }
 ],
 "metadata": {},
 "nbformat": 4,
 "nbformat_minor": 2
}
