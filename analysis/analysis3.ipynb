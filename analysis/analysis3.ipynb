{
 "cells": [
  {
   "cell_type": "markdown",
   "metadata": {},
   "source": [
    "# Takara Nishizaki"
   ]
  },
  {
   "cell_type": "markdown",
   "metadata": {},
   "source": [
    "## Research Question: How do Red/Yellow cards affect the satisfaction and excitement of the fans watching the game in the stadium?\n",
    "\n",
    "I would like to analyze the relationship between penalized cards and how satisfied or excited the fans get. For example, do fans get more excited when there are lot of cards and the game gets heated? I will analyze the relationship by looking at the cards statistic in the dataset, and comparing it with the match excitement statistics in the dataset which is rated out of 10. In addition to this, I will further look into how many fouls each team has commited to see if more fouls lead to an accumulation of cards. To visualize these information, I will make several plots that connect each of the variables that I am looking at, and making a joint plot at the end with the three variables to see the connection between all of the information. "
   ]
  },
  {
   "cell_type": "markdown",
   "metadata": {},
   "source": [
    "## **EDA on my dataset**  (Milestone 3, Task 1)"
   ]
  },
  {
   "cell_type": "code",
   "execution_count": 2,
   "metadata": {},
   "outputs": [],
   "source": [
    "#Importing necessary libraries\n",
    "import numpy as np\n",
    "import pandas as pd\n",
    "import matplotlib.pylab as plt\n",
    "import seaborn as sns"
   ]
  },
  {
   "cell_type": "code",
   "execution_count": 2,
   "metadata": {},
   "outputs": [],
   "source": [
    "#Downloading necessary dataset for project\n",
    "df_all = pd.read_csv(\"../../Group14/data/raw/archive/matchesall2014-2020.csv\")"
   ]
  },
  {
   "cell_type": "code",
   "execution_count": 3,
   "metadata": {},
   "outputs": [
    {
     "name": "stdout",
     "output_type": "stream",
     "text": [
      "(2660, 41)\n"
     ]
    },
    {
     "data": {
      "text/plain": [
       "Index(['Unnamed: 0', 'Home Team', 'Away Team', 'Score', 'Half Time Score',\n",
       "       'Match Excitement', 'Home Team Rating', 'Away Team Rating',\n",
       "       'Home Team Possession %', 'Away Team Possession %',\n",
       "       'Home Team Off Target Shots', 'Home Team On Target Shots',\n",
       "       'Home Team Total Shots', 'Home Team Blocked Shots', 'Home Team Corners',\n",
       "       'Home Team Throw Ins', 'Home Team Pass Success %',\n",
       "       'Home Team Aerials Won', 'Home Team Clearances', 'Home Team Fouls',\n",
       "       'Home Team Yellow Cards', 'Home Team Second Yellow Cards',\n",
       "       'Home Team Red Cards', 'Away Team Off Target Shots',\n",
       "       'Away Team On Target Shots', 'Away Team Total Shots',\n",
       "       'Away Team Blocked Shots', 'Away Team Corners', 'Away Team Throw Ins',\n",
       "       'Away Team Pass Success %', 'Away Team Aerials Won',\n",
       "       'Away Team Clearances', 'Away Team Fouls', 'Away Team Yellow Cards',\n",
       "       'Away Team Second Yellow Cards', 'Away Team Red Cards',\n",
       "       'Home Team Goals Scored', 'Away Team Goals Scored',\n",
       "       'Home Team Goals Conceeded', 'Away Team Goals Conceeded', 'year'],\n",
       "      dtype='object')"
      ]
     },
     "execution_count": 3,
     "metadata": {},
     "output_type": "execute_result"
    }
   ],
   "source": [
    "#Looking at the shape and description of the dataset.\n",
    "\n",
    "print (df_all.shape)\n",
    "df_all.columns"
   ]
  },
  {
   "cell_type": "code",
   "execution_count": 4,
   "metadata": {},
   "outputs": [
    {
     "data": {
      "text/html": [
       "<div>\n",
       "<style scoped>\n",
       "    .dataframe tbody tr th:only-of-type {\n",
       "        vertical-align: middle;\n",
       "    }\n",
       "\n",
       "    .dataframe tbody tr th {\n",
       "        vertical-align: top;\n",
       "    }\n",
       "\n",
       "    .dataframe thead th {\n",
       "        text-align: right;\n",
       "    }\n",
       "</style>\n",
       "<table border=\"1\" class=\"dataframe\">\n",
       "  <thead>\n",
       "    <tr style=\"text-align: right;\">\n",
       "      <th></th>\n",
       "      <th>Home Team</th>\n",
       "      <th>Away Team</th>\n",
       "      <th>Score</th>\n",
       "      <th>Match Excitement</th>\n",
       "      <th>Home Team Fouls</th>\n",
       "      <th>Home Team Yellow Cards</th>\n",
       "      <th>Home Team Second Yellow Cards</th>\n",
       "      <th>Home Team Red Cards</th>\n",
       "      <th>Away Team Fouls</th>\n",
       "      <th>Away Team Yellow Cards</th>\n",
       "      <th>Away Team Second Yellow Cards</th>\n",
       "      <th>Away Team Red Cards</th>\n",
       "      <th>year</th>\n",
       "    </tr>\n",
       "  </thead>\n",
       "  <tbody>\n",
       "    <tr>\n",
       "      <th>0</th>\n",
       "      <td>MAN UTD</td>\n",
       "      <td>SWANSEA</td>\n",
       "      <td>1-2</td>\n",
       "      <td>5.9</td>\n",
       "      <td>14.0</td>\n",
       "      <td>2.0</td>\n",
       "      <td>0.0</td>\n",
       "      <td>0.0</td>\n",
       "      <td>20.0</td>\n",
       "      <td>4.0</td>\n",
       "      <td>0.0</td>\n",
       "      <td>0.0</td>\n",
       "      <td>2014</td>\n",
       "    </tr>\n",
       "    <tr>\n",
       "      <th>1</th>\n",
       "      <td>WEST BROM</td>\n",
       "      <td>SUNDERLAND</td>\n",
       "      <td>2-2</td>\n",
       "      <td>7.3</td>\n",
       "      <td>18.0</td>\n",
       "      <td>3.0</td>\n",
       "      <td>0.0</td>\n",
       "      <td>0.0</td>\n",
       "      <td>9.0</td>\n",
       "      <td>1.0</td>\n",
       "      <td>0.0</td>\n",
       "      <td>0.0</td>\n",
       "      <td>2014</td>\n",
       "    </tr>\n",
       "    <tr>\n",
       "      <th>2</th>\n",
       "      <td>LEICESTER CITY</td>\n",
       "      <td>EVERTON</td>\n",
       "      <td>2-2</td>\n",
       "      <td>7.0</td>\n",
       "      <td>16.0</td>\n",
       "      <td>1.0</td>\n",
       "      <td>0.0</td>\n",
       "      <td>0.0</td>\n",
       "      <td>10.0</td>\n",
       "      <td>1.0</td>\n",
       "      <td>0.0</td>\n",
       "      <td>0.0</td>\n",
       "      <td>2014</td>\n",
       "    </tr>\n",
       "    <tr>\n",
       "      <th>3</th>\n",
       "      <td>WEST HAM</td>\n",
       "      <td>TOTTENHAM</td>\n",
       "      <td>0-1</td>\n",
       "      <td>4.8</td>\n",
       "      <td>12.0</td>\n",
       "      <td>2.0</td>\n",
       "      <td>1.0</td>\n",
       "      <td>0.0</td>\n",
       "      <td>10.0</td>\n",
       "      <td>0.0</td>\n",
       "      <td>0.0</td>\n",
       "      <td>1.0</td>\n",
       "      <td>2014</td>\n",
       "    </tr>\n",
       "    <tr>\n",
       "      <th>4</th>\n",
       "      <td>QPR</td>\n",
       "      <td>HULL CITY</td>\n",
       "      <td>0-1</td>\n",
       "      <td>3.8</td>\n",
       "      <td>10.0</td>\n",
       "      <td>1.0</td>\n",
       "      <td>0.0</td>\n",
       "      <td>0.0</td>\n",
       "      <td>10.0</td>\n",
       "      <td>2.0</td>\n",
       "      <td>0.0</td>\n",
       "      <td>0.0</td>\n",
       "      <td>2014</td>\n",
       "    </tr>\n",
       "    <tr>\n",
       "      <th>...</th>\n",
       "      <td>...</td>\n",
       "      <td>...</td>\n",
       "      <td>...</td>\n",
       "      <td>...</td>\n",
       "      <td>...</td>\n",
       "      <td>...</td>\n",
       "      <td>...</td>\n",
       "      <td>...</td>\n",
       "      <td>...</td>\n",
       "      <td>...</td>\n",
       "      <td>...</td>\n",
       "      <td>...</td>\n",
       "      <td>...</td>\n",
       "    </tr>\n",
       "    <tr>\n",
       "      <th>2655</th>\n",
       "      <td>ARSENAL</td>\n",
       "      <td>BRIGHTON</td>\n",
       "      <td>2-0</td>\n",
       "      <td>4.5</td>\n",
       "      <td>10.0</td>\n",
       "      <td>0.0</td>\n",
       "      <td>0.0</td>\n",
       "      <td>0.0</td>\n",
       "      <td>8.0</td>\n",
       "      <td>0.0</td>\n",
       "      <td>0.0</td>\n",
       "      <td>0.0</td>\n",
       "      <td>2020</td>\n",
       "    </tr>\n",
       "    <tr>\n",
       "      <th>2656</th>\n",
       "      <td>SHEFFIELD UTD</td>\n",
       "      <td>BURNLEY</td>\n",
       "      <td>1-0</td>\n",
       "      <td>3.6</td>\n",
       "      <td>11.0</td>\n",
       "      <td>3.0</td>\n",
       "      <td>0.0</td>\n",
       "      <td>0.0</td>\n",
       "      <td>1.0</td>\n",
       "      <td>1.0</td>\n",
       "      <td>0.0</td>\n",
       "      <td>0.0</td>\n",
       "      <td>2020</td>\n",
       "    </tr>\n",
       "    <tr>\n",
       "      <th>2657</th>\n",
       "      <td>LEICESTER CITY</td>\n",
       "      <td>TOTTENHAM</td>\n",
       "      <td>2-4</td>\n",
       "      <td>8.7</td>\n",
       "      <td>9.0</td>\n",
       "      <td>0.0</td>\n",
       "      <td>0.0</td>\n",
       "      <td>0.0</td>\n",
       "      <td>8.0</td>\n",
       "      <td>2.0</td>\n",
       "      <td>0.0</td>\n",
       "      <td>0.0</td>\n",
       "      <td>2020</td>\n",
       "    </tr>\n",
       "    <tr>\n",
       "      <th>2658</th>\n",
       "      <td>WEST HAM</td>\n",
       "      <td>SOUTHAMPTON</td>\n",
       "      <td>3-0</td>\n",
       "      <td>5.8</td>\n",
       "      <td>5.0</td>\n",
       "      <td>0.0</td>\n",
       "      <td>0.0</td>\n",
       "      <td>0.0</td>\n",
       "      <td>9.0</td>\n",
       "      <td>3.0</td>\n",
       "      <td>0.0</td>\n",
       "      <td>0.0</td>\n",
       "      <td>2020</td>\n",
       "    </tr>\n",
       "    <tr>\n",
       "      <th>2659</th>\n",
       "      <td>LEEDS UTD</td>\n",
       "      <td>WEST BROM</td>\n",
       "      <td>3-1</td>\n",
       "      <td>7.0</td>\n",
       "      <td>12.0</td>\n",
       "      <td>2.0</td>\n",
       "      <td>0.0</td>\n",
       "      <td>0.0</td>\n",
       "      <td>12.0</td>\n",
       "      <td>1.0</td>\n",
       "      <td>0.0</td>\n",
       "      <td>0.0</td>\n",
       "      <td>2020</td>\n",
       "    </tr>\n",
       "  </tbody>\n",
       "</table>\n",
       "<p>2660 rows × 13 columns</p>\n",
       "</div>"
      ],
      "text/plain": [
       "           Home Team    Away Team Score  Match Excitement  Home Team Fouls  \\\n",
       "0            MAN UTD      SWANSEA   1-2               5.9             14.0   \n",
       "1          WEST BROM   SUNDERLAND   2-2               7.3             18.0   \n",
       "2     LEICESTER CITY      EVERTON   2-2               7.0             16.0   \n",
       "3           WEST HAM    TOTTENHAM   0-1               4.8             12.0   \n",
       "4                QPR    HULL CITY   0-1               3.8             10.0   \n",
       "...              ...          ...   ...               ...              ...   \n",
       "2655         ARSENAL     BRIGHTON   2-0               4.5             10.0   \n",
       "2656   SHEFFIELD UTD      BURNLEY   1-0               3.6             11.0   \n",
       "2657  LEICESTER CITY    TOTTENHAM   2-4               8.7              9.0   \n",
       "2658        WEST HAM  SOUTHAMPTON   3-0               5.8              5.0   \n",
       "2659       LEEDS UTD    WEST BROM   3-1               7.0             12.0   \n",
       "\n",
       "      Home Team Yellow Cards  Home Team Second Yellow Cards  \\\n",
       "0                        2.0                            0.0   \n",
       "1                        3.0                            0.0   \n",
       "2                        1.0                            0.0   \n",
       "3                        2.0                            1.0   \n",
       "4                        1.0                            0.0   \n",
       "...                      ...                            ...   \n",
       "2655                     0.0                            0.0   \n",
       "2656                     3.0                            0.0   \n",
       "2657                     0.0                            0.0   \n",
       "2658                     0.0                            0.0   \n",
       "2659                     2.0                            0.0   \n",
       "\n",
       "      Home Team Red Cards  Away Team Fouls  Away Team Yellow Cards  \\\n",
       "0                     0.0             20.0                     4.0   \n",
       "1                     0.0              9.0                     1.0   \n",
       "2                     0.0             10.0                     1.0   \n",
       "3                     0.0             10.0                     0.0   \n",
       "4                     0.0             10.0                     2.0   \n",
       "...                   ...              ...                     ...   \n",
       "2655                  0.0              8.0                     0.0   \n",
       "2656                  0.0              1.0                     1.0   \n",
       "2657                  0.0              8.0                     2.0   \n",
       "2658                  0.0              9.0                     3.0   \n",
       "2659                  0.0             12.0                     1.0   \n",
       "\n",
       "      Away Team Second Yellow Cards  Away Team Red Cards  year  \n",
       "0                               0.0                  0.0  2014  \n",
       "1                               0.0                  0.0  2014  \n",
       "2                               0.0                  0.0  2014  \n",
       "3                               0.0                  1.0  2014  \n",
       "4                               0.0                  0.0  2014  \n",
       "...                             ...                  ...   ...  \n",
       "2655                            0.0                  0.0  2020  \n",
       "2656                            0.0                  0.0  2020  \n",
       "2657                            0.0                  0.0  2020  \n",
       "2658                            0.0                  0.0  2020  \n",
       "2659                            0.0                  0.0  2020  \n",
       "\n",
       "[2660 rows x 13 columns]"
      ]
     },
     "execution_count": 4,
     "metadata": {},
     "output_type": "execute_result"
    }
   ],
   "source": [
    "#Dropping columns that are not necessary for my research, then dropping any NA values.\n",
    "\n",
    "df_subset = df_all[[\"Home Team\", \"Away Team\", \"Score\", \"Match Excitement\", \"Home Team Fouls\", \"Home Team Yellow Cards\", \"Home Team Second Yellow Cards\", \"Home Team Red Cards\", \"Away Team Fouls\", \"Away Team Yellow Cards\", \"Away Team Second Yellow Cards\", \"Away Team Red Cards\", \"year\"]]\n",
    "df_subset = df_subset.dropna()\n",
    "df_subset\n"
   ]
  },
  {
   "cell_type": "markdown",
   "metadata": {},
   "source": [
    "There were no NA values in this dataset, so we now have a complete dataset with only the columns that are suitable for this research."
   ]
  },
  {
   "cell_type": "code",
   "execution_count": 5,
   "metadata": {},
   "outputs": [
    {
     "data": {
      "text/html": [
       "<div>\n",
       "<style scoped>\n",
       "    .dataframe tbody tr th:only-of-type {\n",
       "        vertical-align: middle;\n",
       "    }\n",
       "\n",
       "    .dataframe tbody tr th {\n",
       "        vertical-align: top;\n",
       "    }\n",
       "\n",
       "    .dataframe thead th {\n",
       "        text-align: right;\n",
       "    }\n",
       "</style>\n",
       "<table border=\"1\" class=\"dataframe\">\n",
       "  <thead>\n",
       "    <tr style=\"text-align: right;\">\n",
       "      <th></th>\n",
       "      <th>Home Team</th>\n",
       "      <th>Away Team</th>\n",
       "      <th>Score</th>\n",
       "      <th>Match Excitement</th>\n",
       "      <th>Home Team Fouls</th>\n",
       "      <th>Home Team Yellow Cards</th>\n",
       "      <th>Home Team Second Yellow Cards</th>\n",
       "      <th>Home Team Red Cards</th>\n",
       "      <th>Away Team Fouls</th>\n",
       "      <th>Away Team Yellow Cards</th>\n",
       "      <th>Away Team Second Yellow Cards</th>\n",
       "      <th>Away Team Red Cards</th>\n",
       "      <th>year</th>\n",
       "      <th>Total_Fouls</th>\n",
       "      <th>Total_Yellow_Cards</th>\n",
       "      <th>Total_Red_Cards</th>\n",
       "    </tr>\n",
       "  </thead>\n",
       "  <tbody>\n",
       "    <tr>\n",
       "      <th>0</th>\n",
       "      <td>MAN UTD</td>\n",
       "      <td>SWANSEA</td>\n",
       "      <td>1-2</td>\n",
       "      <td>5.9</td>\n",
       "      <td>14.0</td>\n",
       "      <td>2.0</td>\n",
       "      <td>0.0</td>\n",
       "      <td>0.0</td>\n",
       "      <td>20.0</td>\n",
       "      <td>4.0</td>\n",
       "      <td>0.0</td>\n",
       "      <td>0.0</td>\n",
       "      <td>2014</td>\n",
       "      <td>34.0</td>\n",
       "      <td>6.0</td>\n",
       "      <td>0.0</td>\n",
       "    </tr>\n",
       "    <tr>\n",
       "      <th>1</th>\n",
       "      <td>WEST BROM</td>\n",
       "      <td>SUNDERLAND</td>\n",
       "      <td>2-2</td>\n",
       "      <td>7.3</td>\n",
       "      <td>18.0</td>\n",
       "      <td>3.0</td>\n",
       "      <td>0.0</td>\n",
       "      <td>0.0</td>\n",
       "      <td>9.0</td>\n",
       "      <td>1.0</td>\n",
       "      <td>0.0</td>\n",
       "      <td>0.0</td>\n",
       "      <td>2014</td>\n",
       "      <td>27.0</td>\n",
       "      <td>4.0</td>\n",
       "      <td>0.0</td>\n",
       "    </tr>\n",
       "    <tr>\n",
       "      <th>2</th>\n",
       "      <td>LEICESTER CITY</td>\n",
       "      <td>EVERTON</td>\n",
       "      <td>2-2</td>\n",
       "      <td>7.0</td>\n",
       "      <td>16.0</td>\n",
       "      <td>1.0</td>\n",
       "      <td>0.0</td>\n",
       "      <td>0.0</td>\n",
       "      <td>10.0</td>\n",
       "      <td>1.0</td>\n",
       "      <td>0.0</td>\n",
       "      <td>0.0</td>\n",
       "      <td>2014</td>\n",
       "      <td>26.0</td>\n",
       "      <td>2.0</td>\n",
       "      <td>0.0</td>\n",
       "    </tr>\n",
       "    <tr>\n",
       "      <th>3</th>\n",
       "      <td>WEST HAM</td>\n",
       "      <td>TOTTENHAM</td>\n",
       "      <td>0-1</td>\n",
       "      <td>4.8</td>\n",
       "      <td>12.0</td>\n",
       "      <td>2.0</td>\n",
       "      <td>1.0</td>\n",
       "      <td>0.0</td>\n",
       "      <td>10.0</td>\n",
       "      <td>0.0</td>\n",
       "      <td>0.0</td>\n",
       "      <td>1.0</td>\n",
       "      <td>2014</td>\n",
       "      <td>22.0</td>\n",
       "      <td>3.0</td>\n",
       "      <td>1.0</td>\n",
       "    </tr>\n",
       "    <tr>\n",
       "      <th>4</th>\n",
       "      <td>QPR</td>\n",
       "      <td>HULL CITY</td>\n",
       "      <td>0-1</td>\n",
       "      <td>3.8</td>\n",
       "      <td>10.0</td>\n",
       "      <td>1.0</td>\n",
       "      <td>0.0</td>\n",
       "      <td>0.0</td>\n",
       "      <td>10.0</td>\n",
       "      <td>2.0</td>\n",
       "      <td>0.0</td>\n",
       "      <td>0.0</td>\n",
       "      <td>2014</td>\n",
       "      <td>20.0</td>\n",
       "      <td>3.0</td>\n",
       "      <td>0.0</td>\n",
       "    </tr>\n",
       "    <tr>\n",
       "      <th>...</th>\n",
       "      <td>...</td>\n",
       "      <td>...</td>\n",
       "      <td>...</td>\n",
       "      <td>...</td>\n",
       "      <td>...</td>\n",
       "      <td>...</td>\n",
       "      <td>...</td>\n",
       "      <td>...</td>\n",
       "      <td>...</td>\n",
       "      <td>...</td>\n",
       "      <td>...</td>\n",
       "      <td>...</td>\n",
       "      <td>...</td>\n",
       "      <td>...</td>\n",
       "      <td>...</td>\n",
       "      <td>...</td>\n",
       "    </tr>\n",
       "    <tr>\n",
       "      <th>2655</th>\n",
       "      <td>ARSENAL</td>\n",
       "      <td>BRIGHTON</td>\n",
       "      <td>2-0</td>\n",
       "      <td>4.5</td>\n",
       "      <td>10.0</td>\n",
       "      <td>0.0</td>\n",
       "      <td>0.0</td>\n",
       "      <td>0.0</td>\n",
       "      <td>8.0</td>\n",
       "      <td>0.0</td>\n",
       "      <td>0.0</td>\n",
       "      <td>0.0</td>\n",
       "      <td>2020</td>\n",
       "      <td>18.0</td>\n",
       "      <td>0.0</td>\n",
       "      <td>0.0</td>\n",
       "    </tr>\n",
       "    <tr>\n",
       "      <th>2656</th>\n",
       "      <td>SHEFFIELD UTD</td>\n",
       "      <td>BURNLEY</td>\n",
       "      <td>1-0</td>\n",
       "      <td>3.6</td>\n",
       "      <td>11.0</td>\n",
       "      <td>3.0</td>\n",
       "      <td>0.0</td>\n",
       "      <td>0.0</td>\n",
       "      <td>1.0</td>\n",
       "      <td>1.0</td>\n",
       "      <td>0.0</td>\n",
       "      <td>0.0</td>\n",
       "      <td>2020</td>\n",
       "      <td>12.0</td>\n",
       "      <td>4.0</td>\n",
       "      <td>0.0</td>\n",
       "    </tr>\n",
       "    <tr>\n",
       "      <th>2657</th>\n",
       "      <td>LEICESTER CITY</td>\n",
       "      <td>TOTTENHAM</td>\n",
       "      <td>2-4</td>\n",
       "      <td>8.7</td>\n",
       "      <td>9.0</td>\n",
       "      <td>0.0</td>\n",
       "      <td>0.0</td>\n",
       "      <td>0.0</td>\n",
       "      <td>8.0</td>\n",
       "      <td>2.0</td>\n",
       "      <td>0.0</td>\n",
       "      <td>0.0</td>\n",
       "      <td>2020</td>\n",
       "      <td>17.0</td>\n",
       "      <td>2.0</td>\n",
       "      <td>0.0</td>\n",
       "    </tr>\n",
       "    <tr>\n",
       "      <th>2658</th>\n",
       "      <td>WEST HAM</td>\n",
       "      <td>SOUTHAMPTON</td>\n",
       "      <td>3-0</td>\n",
       "      <td>5.8</td>\n",
       "      <td>5.0</td>\n",
       "      <td>0.0</td>\n",
       "      <td>0.0</td>\n",
       "      <td>0.0</td>\n",
       "      <td>9.0</td>\n",
       "      <td>3.0</td>\n",
       "      <td>0.0</td>\n",
       "      <td>0.0</td>\n",
       "      <td>2020</td>\n",
       "      <td>14.0</td>\n",
       "      <td>3.0</td>\n",
       "      <td>0.0</td>\n",
       "    </tr>\n",
       "    <tr>\n",
       "      <th>2659</th>\n",
       "      <td>LEEDS UTD</td>\n",
       "      <td>WEST BROM</td>\n",
       "      <td>3-1</td>\n",
       "      <td>7.0</td>\n",
       "      <td>12.0</td>\n",
       "      <td>2.0</td>\n",
       "      <td>0.0</td>\n",
       "      <td>0.0</td>\n",
       "      <td>12.0</td>\n",
       "      <td>1.0</td>\n",
       "      <td>0.0</td>\n",
       "      <td>0.0</td>\n",
       "      <td>2020</td>\n",
       "      <td>24.0</td>\n",
       "      <td>3.0</td>\n",
       "      <td>0.0</td>\n",
       "    </tr>\n",
       "  </tbody>\n",
       "</table>\n",
       "<p>2660 rows × 16 columns</p>\n",
       "</div>"
      ],
      "text/plain": [
       "           Home Team    Away Team Score  Match Excitement  Home Team Fouls  \\\n",
       "0            MAN UTD      SWANSEA   1-2               5.9             14.0   \n",
       "1          WEST BROM   SUNDERLAND   2-2               7.3             18.0   \n",
       "2     LEICESTER CITY      EVERTON   2-2               7.0             16.0   \n",
       "3           WEST HAM    TOTTENHAM   0-1               4.8             12.0   \n",
       "4                QPR    HULL CITY   0-1               3.8             10.0   \n",
       "...              ...          ...   ...               ...              ...   \n",
       "2655         ARSENAL     BRIGHTON   2-0               4.5             10.0   \n",
       "2656   SHEFFIELD UTD      BURNLEY   1-0               3.6             11.0   \n",
       "2657  LEICESTER CITY    TOTTENHAM   2-4               8.7              9.0   \n",
       "2658        WEST HAM  SOUTHAMPTON   3-0               5.8              5.0   \n",
       "2659       LEEDS UTD    WEST BROM   3-1               7.0             12.0   \n",
       "\n",
       "      Home Team Yellow Cards  Home Team Second Yellow Cards  \\\n",
       "0                        2.0                            0.0   \n",
       "1                        3.0                            0.0   \n",
       "2                        1.0                            0.0   \n",
       "3                        2.0                            1.0   \n",
       "4                        1.0                            0.0   \n",
       "...                      ...                            ...   \n",
       "2655                     0.0                            0.0   \n",
       "2656                     3.0                            0.0   \n",
       "2657                     0.0                            0.0   \n",
       "2658                     0.0                            0.0   \n",
       "2659                     2.0                            0.0   \n",
       "\n",
       "      Home Team Red Cards  Away Team Fouls  Away Team Yellow Cards  \\\n",
       "0                     0.0             20.0                     4.0   \n",
       "1                     0.0              9.0                     1.0   \n",
       "2                     0.0             10.0                     1.0   \n",
       "3                     0.0             10.0                     0.0   \n",
       "4                     0.0             10.0                     2.0   \n",
       "...                   ...              ...                     ...   \n",
       "2655                  0.0              8.0                     0.0   \n",
       "2656                  0.0              1.0                     1.0   \n",
       "2657                  0.0              8.0                     2.0   \n",
       "2658                  0.0              9.0                     3.0   \n",
       "2659                  0.0             12.0                     1.0   \n",
       "\n",
       "      Away Team Second Yellow Cards  Away Team Red Cards  year  Total_Fouls  \\\n",
       "0                               0.0                  0.0  2014         34.0   \n",
       "1                               0.0                  0.0  2014         27.0   \n",
       "2                               0.0                  0.0  2014         26.0   \n",
       "3                               0.0                  1.0  2014         22.0   \n",
       "4                               0.0                  0.0  2014         20.0   \n",
       "...                             ...                  ...   ...          ...   \n",
       "2655                            0.0                  0.0  2020         18.0   \n",
       "2656                            0.0                  0.0  2020         12.0   \n",
       "2657                            0.0                  0.0  2020         17.0   \n",
       "2658                            0.0                  0.0  2020         14.0   \n",
       "2659                            0.0                  0.0  2020         24.0   \n",
       "\n",
       "      Total_Yellow_Cards  Total_Red_Cards  \n",
       "0                    6.0              0.0  \n",
       "1                    4.0              0.0  \n",
       "2                    2.0              0.0  \n",
       "3                    3.0              1.0  \n",
       "4                    3.0              0.0  \n",
       "...                  ...              ...  \n",
       "2655                 0.0              0.0  \n",
       "2656                 4.0              0.0  \n",
       "2657                 2.0              0.0  \n",
       "2658                 3.0              0.0  \n",
       "2659                 3.0              0.0  \n",
       "\n",
       "[2660 rows x 16 columns]"
      ]
     },
     "execution_count": 5,
     "metadata": {},
     "output_type": "execute_result"
    }
   ],
   "source": [
    "#Making a new column for my dataset that helps with my research.\n",
    "\n",
    "df_subset[\"Total_Fouls\"] = df_subset[\"Home Team Fouls\"] + df_subset[\"Away Team Fouls\"]\n",
    "df_subset[\"Total_Yellow_Cards\"] = df_subset[\"Home Team Yellow Cards\"] + df_subset[\"Home Team Second Yellow Cards\"] + df_subset[\"Away Team Yellow Cards\"] + df_subset[\"Away Team Second Yellow Cards\"]\n",
    "df_subset[\"Total_Red_Cards\"] = df_subset[\"Home Team Red Cards\"] + df_subset[\"Away Team Red Cards\"]\n",
    "\n",
    "df_subset"
   ]
  },
  {
   "cell_type": "markdown",
   "metadata": {},
   "source": [
    "I added three additional columns that might be helpful for this research. I have combined the fouls and cards statistics between the home and away teams, because we are looking at the game in total currently, and don't favour the home or away."
   ]
  },
  {
   "cell_type": "code",
   "execution_count": 6,
   "metadata": {},
   "outputs": [],
   "source": [
    "#Setting themes and styles for seaborn.\n",
    "\n",
    "sns.set_theme(style=\"ticks\")"
   ]
  },
  {
   "cell_type": "code",
   "execution_count": 7,
   "metadata": {},
   "outputs": [
    {
     "data": {
      "text/plain": [
       "Text(0, 0.5, 'Match Excitement Rating out of 10')"
      ]
     },
     "execution_count": 7,
     "metadata": {},
     "output_type": "execute_result"
    },
    {
     "data": {
      "image/png": "[encoded data removed]",
      "text/plain": [
       "<Figure size 640x480 with 1 Axes>"
      ]
     },
     "metadata": {},
     "output_type": "display_data"
    }
   ],
   "source": [
    "#Boxplot between total yellow cards and match excitement.\n",
    "\n",
    "sns.boxplot(x='Total_Yellow_Cards', y='Match Excitement', data=df_subset)\n",
    "plt.title(\"Relationship between the Number of Yellow Cards and Match Excitement\")\n",
    "plt.xlabel(\"Total Number of Yellow Cards in a Game\")\n",
    "plt.ylabel(\"Match Excitement Rating out of 10\")"
   ]
  },
  {
   "cell_type": "markdown",
   "metadata": {},
   "source": [
    "I wanted to see the correlation between the increased number of yellow cards, and if the match will be more heated, which will result to fans getting more excited. However, it seems that there are a slight increase, but it stays the same in general. There are a few outliers on the higher end of the match rating, which is probably caused through other variables that are not card related."
   ]
  },
  {
   "cell_type": "code",
   "execution_count": 8,
   "metadata": {},
   "outputs": [
    {
     "data": {
      "text/plain": [
       "Text(0, 0.5, 'Total Number of Fouls in a Game')"
      ]
     },
     "execution_count": 8,
     "metadata": {},
     "output_type": "execute_result"
    },
    {
     "data": {
      "image/png": "[encoded data removed]",
      "text/plain": [
       "<Figure size 640x480 with 1 Axes>"
      ]
     },
     "metadata": {},
     "output_type": "display_data"
    }
   ],
   "source": [
    "#Plot between total fouls and total yellow cards.\n",
    "\n",
    "sns.boxplot(x='Total_Yellow_Cards', y='Total_Fouls', data=df_subset)\n",
    "plt.title(\"Relationship between the Number of Yellow Cards and Number of Fouls\")\n",
    "plt.xlabel(\"Total Number of Yellow Cards in a Game\")\n",
    "plt.ylabel(\"Total Number of Fouls in a Game\")"
   ]
  },
  {
   "cell_type": "markdown",
   "metadata": {},
   "source": [
    "This boxplot shows the correlation between the number of yellow cards and the fouls committed by both teams. As the number of fouls increase, the amount of cards increase as well, because the referee wants to control the game better. Therefore, we can say that disciplinary actions are punished by cards and the players are penalized. "
   ]
  },
  {
   "cell_type": "code",
   "execution_count": 9,
   "metadata": {},
   "outputs": [
    {
     "data": {
      "text/plain": [
       "Text(0, 0.5, 'Mean of Match Excitement Rating out of 10')"
      ]
     },
     "execution_count": 9,
     "metadata": {},
     "output_type": "execute_result"
    },
    {
     "data": {
      "image/png": "[encoded data removed]",
      "text/plain": [
       "<Figure size 640x480 with 1 Axes>"
      ]
     },
     "metadata": {},
     "output_type": "display_data"
    }
   ],
   "source": [
    "#Average match excitement rate by Year\n",
    "\n",
    "mean_Excitement = df_subset.groupby('year')['Match Excitement'].mean()\n",
    "mean_Excitement_df = mean_Excitement.to_frame().reset_index()\n",
    "mean_Excitement_df.columns=[\"year\", \"mean\"]\n",
    "sns.lineplot(x='year', y='mean', data=mean_Excitement_df, markers=True)\n",
    "plt.ylim([4.5,6])\n",
    "plt.title(\"Mean of Match Excitement Rating each Year\")\n",
    "plt.xlabel(\"Year\")\n",
    "plt.ylabel(\"Mean of Match Excitement Rating out of 10\")"
   ]
  },
  {
   "cell_type": "code",
   "execution_count": 10,
   "metadata": {},
   "outputs": [
    {
     "data": {
      "text/plain": [
       "Text(0, 0.5, 'Mean of Yellow Cards')"
      ]
     },
     "execution_count": 10,
     "metadata": {},
     "output_type": "execute_result"
    },
    {
     "data": {
      "image/png": "[encoded data removed]",
      "text/plain": [
       "<Figure size 640x480 with 1 Axes>"
      ]
     },
     "metadata": {},
     "output_type": "display_data"
    }
   ],
   "source": [
    "#Average cards given out by Year\n",
    "\n",
    "mean_Yellow_Cards = df_subset.groupby('year')['Total_Yellow_Cards'].mean()\n",
    "mean_Yellow_Cards_df = mean_Yellow_Cards.to_frame().reset_index()\n",
    "mean_Yellow_Cards_df.columns=[\"year\", \"mean\"]\n",
    "sns.lineplot(x='year', y='mean', data=mean_Yellow_Cards_df, markers=True)\n",
    "plt.ylim([2.5,4])\n",
    "plt.title(\"Mean of Yellow Cards each Year\")\n",
    "plt.xlabel(\"Year\")\n",
    "plt.ylabel(\"Mean of Yellow Cards\")"
   ]
  },
  {
   "cell_type": "markdown",
   "metadata": {},
   "source": [
    "The two line plots above shows the mean of the match excitements and yellow cards by year. I created these line plots to see if there were any significant differences between each year. Every year has a different standard of refereeing and this could have caused how the games turned out. Overall, we can see that there are no significant differences. Although the plots do look like there are a big shift, it is because I have shrinked the scale on the y-axis to enhance the graphs."
   ]
  },
  {
   "cell_type": "markdown",
   "metadata": {},
   "source": [
    "## **Refining my Research Questions** (Milestone 3, Task 2)"
   ]
  },
  {
   "cell_type": "markdown",
   "metadata": {},
   "source": [
    "Overall, the graphs have answered the simpler side of questions that I asked for my reseach project. I was able to drop columns that were unnecessary to my project. In addition to that, I have grouped several information by years, which I would later be able to compare by years.\n",
    "\n",
    "Another perspective that I can see this is by the teams, because there are conspiracies where some teams are getting more advantages from referees while other teams struggle through this. I  would be able to test this by grouping the teams and looking at the card statistics to see if certain teams are favoured over another. \n",
    "\n",
    "On my next milestone, I will try to join all of the plots that I have made so far to see if I can see any further correlation between the columns that I have searched through as of now. "
   ]
  },
  {
   "cell_type": "markdown",
   "metadata": {},
   "source": [
    "## **Data Analysis Pipeline** (Milestone 4, Task 1)"
   ]
  },
  {
   "cell_type": "markdown",
   "metadata": {},
   "source": [
    "In my previous milestone, I have done the first 4 common steps of data analysis pipeline. Therefore, I will explain in words about the different processing that I did.\n",
    "\n",
    "First, we as a group looked into the data, and explained further about the 5 W's and how, in regards to this dataset. We have also identified the data format as well, which is located in the title page of our repository.\n",
    "\n",
    "Secondly, for cleaning the data, we worked on these individually. Since my research focuses on the match excitement and its relationship with the cards given out during the game, I kept those columns along with the score and team names. This process decreased my dataset from 41 columns to 13, which simplified the dataset so it will be easier to work with. Additionally, I used the df.dropna code to drop any NA values, but since it was non existent in this dataset, I did not have to worry about the missing values.\n",
    "\n",
    "Next, I created a couple columns that would be beneficiary for my research. I added the home and away yellow/red cards to create a new column named \"Total Yellow Cards\", and \"Total Red Cards\". Along with that, I also added the home and away fouls, to create a new column named \"Total Fouls\". These did not have any outliers because it includes all of the games from the regular season, so I did not have to exclude any rows/columns when dealing with this data.\n",
    "\n",
    "Finally, as for grouping objects together using the groupby function, I did this when making the various plots of the latter part of Milestone 3. I grouped the years together so that I can see if there were any differences between the statistics per year, since referee standards can differ each year. Using the groupby function, I was able to plot the differences afterwards. "
   ]
  },
  {
   "cell_type": "markdown",
   "metadata": {},
   "source": [
    "## **Method Chaining** (Milestone 4, Task 2)"
   ]
  },
  {
   "cell_type": "code",
   "execution_count": 3,
   "metadata": {},
   "outputs": [],
   "source": [
    "#Beginning of Method Chaining\n",
    "\n",
    "df_subset = (\n",
    "    pd.read_csv(\"../../Group14/data/raw/archive/matchesall2014-2020.csv\")\n",
    "    .dropna()\n",
    "    .assign(Total_Fouls=lambda x: x[\"Home Team Fouls\"] + x[\"Away Team Fouls\"])\n",
    "    .assign(Total_Yellow_Cards=lambda x: x[\"Home Team Yellow Cards\"] + x[\"Away Team Yellow Cards\"])\n",
    "    .assign(Total_Red_Cards=lambda x: x[\"Home Team Red Cards\"] + x[\"Away Team Red Cards\"])\n",
    "    .loc[:, [\"Home Team\", \"Away Team\", \"Score\", \"Match Excitement\", \"Home Team Fouls\", \"Home Team Yellow Cards\", \"Home Team Second Yellow Cards\", \"Home Team Red Cards\", \"Away Team Fouls\", \"Away Team Yellow Cards\", \"Away Team Second Yellow Cards\", \"Away Team Red Cards\", \"year\", \"Total_Fouls\", \"Total_Yellow_Cards\", \"Total_Red_Cards\"]]\n",
    ")\n",
    "df_subset = pd.DataFrame(df_subset)\n",
    "    "
   ]
  },
  {
   "cell_type": "code",
   "execution_count": 9,
   "metadata": {},
   "outputs": [
    {
     "ename": "ImportError",
     "evalue": "cannot import name 'project_functions3' from 'code' (/Users/takaranishizaki/miniconda3/lib/python3.10/code.py)",
     "output_type": "error",
     "traceback": [
      "\u001b[0;31m---------------------------------------------------------------------------\u001b[0m",
      "\u001b[0;31mImportError\u001b[0m                               Traceback (most recent call last)",
      "Cell \u001b[0;32mIn[9], line 1\u001b[0m\n\u001b[0;32m----> 1\u001b[0m \u001b[38;5;28;01mfrom\u001b[39;00m \u001b[38;5;21;01mcode\u001b[39;00m \u001b[38;5;28;01mimport\u001b[39;00m project_functions3\n\u001b[1;32m      2\u001b[0m df_subset \u001b[38;5;241m=\u001b[39m project_functions3\u001b[38;5;241m.\u001b[39mload_and_process(\u001b[38;5;124m\"\u001b[39m\u001b[38;5;124m../../Group14/data/raw/archive/matchesall2014-2020.csv\u001b[39m\u001b[38;5;124m\"\u001b[39m)\n\u001b[1;32m      3\u001b[0m df_subset\n",
      "\u001b[0;31mImportError\u001b[0m: cannot import name 'project_functions3' from 'code' (/Users/takaranishizaki/miniconda3/lib/python3.10/code.py)"
     ]
    }
   ],
   "source": [
    "from code import project_functions3\n",
    "df_subset = project_functions3.load_and_process(\"../../Group14/data/raw/archive/matchesall2014-2020.csv\")\n",
    "df_subset"
   ]
  },
  {
   "cell_type": "code",
   "execution_count": null,
   "metadata": {},
   "outputs": [],
   "source": []
  },
  {
   "cell_type": "code",
   "execution_count": null,
   "metadata": {},
   "outputs": [],
   "source": []
  }
 ],
 "metadata": {
  "kernelspec": {
   "display_name": "Python 3 (ipykernel)",
   "language": "python",
   "name": "python3"
  },
  "language_info": {
   "codemirror_mode": {
    "name": "ipython",
    "version": 3
   },
   "file_extension": ".py",
   "mimetype": "text/x-python",
   "name": "python",
   "nbconvert_exporter": "python",
   "pygments_lexer": "ipython3",
   "version": "3.10.8"
  }
 },
 "nbformat": 4,
 "nbformat_minor": 4
}
