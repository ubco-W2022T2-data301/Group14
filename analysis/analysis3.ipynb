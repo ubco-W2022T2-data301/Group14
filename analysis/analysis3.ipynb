{
 "cells": [
  {
   "cell_type": "markdown",
   "source": [
    "# Takara Nishizaki"
   ],
   "metadata": {}
  },
  {
   "cell_type": "markdown",
   "source": [
    "## Research question/interests\r\n",
    "Research Question: How do Red/Yellow cards affect the satisfaction and excitement of the fans watching the game in the stadium?",
    "I would like to analyze the relationship between penalized cards and how satisfied or excited the fans get. For example, do fans get more excited when there are lot of cards and the game gets heated? I will analyze the relationship by looking at the cards statistic in the dataset, and comparing it with the match excitement statistics in the dataset which is rated out of 10."

   ],
   "metadata": {}
  }
 ],
 "metadata": {
  "orig_nbformat": 4,
  "language_info": {
   "name": "plaintext"
  }
 },
 "nbformat": 4,
 "nbformat_minor": 2
}
