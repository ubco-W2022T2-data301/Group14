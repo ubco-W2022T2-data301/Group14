{
 "cells": [
  {
   "cell_type": "markdown",
   "id": "fb55d08d-5478-428f-962a-e2019a88dd1e",
   "metadata": {},
   "source": [
    "# Omar Hemed"
   ]
  },
  {
   "cell_type": "markdown",
   "id": "b0192536-83ae-4db0-a646-c4f05b90a5dd",
   "metadata": {},
   "source": [
    "## Research question/interests\n",
    "\n",
    "For my research question, I am aiming to find how players have affected playing either at home or away through the dataset columns provided on Kaggle. These columns show how the score of each team is affected by playing home or away, and it also shows the rating of each team either by playing at home or away. I will analyze each team and how their score is affected by playing at home or away."
   ]
  }
 ],
 "metadata": {
  "kernelspec": {
   "display_name": "",
   "name": ""
  },
  "language_info": {
   "name": ""
  }
 },
 "nbformat": 4,
 "nbformat_minor": 5
}
