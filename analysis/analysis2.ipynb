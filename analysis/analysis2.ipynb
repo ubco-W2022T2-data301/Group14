{
 "cells": [
  {
   "cell_type": "markdown",
   "source": [
    "# Makoto Kitamura"
   ],
   "metadata": {}
  },
  {
   "cell_type": "markdown",
   "source": [
    "## Research question/interests: How does the halftime score affect the result and excitement of the whole game? How many scores in difference are enough to guarantee 80% winning at half score? How does a score of the home game change the excitement of the fans and does having higher excitement affect even more goals for the home team? What other strong factors are contributing to the team winning the game?\r\n",
    "\r\n",
    "I will check the correlation between the halftime score and the result of the game and the excitement of the game and the result of the game. I will go through all the games and check the half score and what percentage of the game ended up being drawn or not.I believe that the pass success% is a stronger factor than the shots taken because I think a successful pass leads to the goal, not the number of shots taken. Another strong factor can be ball possession%. Also, I will do a regression model to see what actually leads the team to win"
   ],
   "metadata": {}
  }
 ],
 "metadata": {
  "orig_nbformat": 4,
  "language_info": {
   "name": "plaintext"
  }
 },
 "nbformat": 4,
 "nbformat_minor": 2
}
