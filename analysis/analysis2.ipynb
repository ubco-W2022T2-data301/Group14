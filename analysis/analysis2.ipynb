{
 "cells": [
  {
   "cell_type": "markdown",
   "metadata": {},
   "source": [
<<<<<<< HEAD
    "# Your Name Here"
   ]
=======
    "# Makoto Kitamura"
   ],
   "metadata": {}
>>>>>>> 05725ea71b7939a25ba28cb697c756f65b45f372
  },
  {
   "cell_type": "markdown",
   "metadata": {},
   "source": [
    "## Research question/interests: How does halftime score affect the whole game? What other strong factors are contributing to the team winning the game?\r\n",
    "\r\n",
<<<<<<< HEAD
    "Briefly describe your research question or interests here."
   ]
=======
    "I will check the correlation between the halftime score and the result of the game. Also, I will do a regression model to see what actually leads the team to win"
   ],
   "metadata": {}
>>>>>>> 05725ea71b7939a25ba28cb697c756f65b45f372
  }
 ],
 "metadata": {},
 "nbformat": 4,
 "nbformat_minor": 2
}
