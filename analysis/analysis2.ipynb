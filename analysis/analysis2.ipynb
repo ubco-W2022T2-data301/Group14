{
 "cells": [
  {
   "cell_type": "markdown",
   "source": [
    "# Makoto Kitamura"
   ],
   "metadata": {}
  },
  {
   "cell_type": "markdown",
   "source": [
    "## Research question/interests How does halftime score affect the whole game?What other strong factors are contributing for the team to win the game?\r\n",
    "\r\n",
    "I will check the correlation of the half time score and the result of the game. Also I will do a regression model to see what actually leads team to win"
   ],
   "metadata": {}
  }
 ],
 "metadata": {
  "orig_nbformat": 4,
  "language_info": {
   "name": "plaintext"
  }
 },
 "nbformat": 4,
 "nbformat_minor": 2
}
